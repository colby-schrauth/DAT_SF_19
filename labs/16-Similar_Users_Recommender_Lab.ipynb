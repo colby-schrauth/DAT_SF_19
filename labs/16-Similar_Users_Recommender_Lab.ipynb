{
 "cells": [
  {
   "cell_type": "markdown",
   "metadata": {},
   "source": [
    "# Similar Users Lab\n",
    "\n",
    "BUT FIRST a quick word about strings, lists, and sets:\n",
    "\n",
    "## Working with sets\n",
    "\n",
    "In mathematics, a set is a collection of distinct objects.  In Python, \"Sets\" are lists with no duplicate entries. Set objects also support mathematical operations like union, intersection, difference, and symmetric difference.\n",
    "\n",
    "_Fun fact for your next party:  Techincally, Python sets are implemented using dictionaries (under the hood)._\n",
    "\n",
    "Here are two sets of colors:\n"
   ]
  },
  {
   "cell_type": "code",
   "execution_count": 1,
   "metadata": {
    "collapsed": false
   },
   "outputs": [],
   "source": [
    "a = set([\"Red\", \"Green\", \"Blue\"])\n",
    "b = set([\"Black\", \"White\", \"Green\"])"
   ]
  },
  {
   "cell_type": "markdown",
   "metadata": {},
   "source": [
    "To find out which items are in both sets (**both sets only**), use the \"intersection\" method:"
   ]
  },
  {
   "cell_type": "code",
   "execution_count": 2,
   "metadata": {
    "collapsed": false
   },
   "outputs": [
    {
     "data": {
      "text/plain": [
       "{'Green'}"
      ]
     },
     "execution_count": 2,
     "metadata": {},
     "output_type": "execute_result"
    }
   ],
   "source": [
    "a.intersection(b)"
   ]
  },
  {
   "cell_type": "markdown",
   "metadata": {},
   "source": [
    "To find the items in a, but not b."
   ]
  },
  {
   "cell_type": "code",
   "execution_count": 3,
   "metadata": {
    "collapsed": false
   },
   "outputs": [
    {
     "data": {
      "text/plain": [
       "{'Blue', 'Red'}"
      ]
     },
     "execution_count": 3,
     "metadata": {},
     "output_type": "execute_result"
    }
   ],
   "source": [
    "a.difference(b)"
   ]
  },
  {
   "cell_type": "markdown",
   "metadata": {},
   "source": [
    "To find the items in b, but not a."
   ]
  },
  {
   "cell_type": "code",
   "execution_count": 4,
   "metadata": {
    "collapsed": false
   },
   "outputs": [
    {
     "data": {
      "text/plain": [
       "{'Black', 'White'}"
      ]
     },
     "execution_count": 4,
     "metadata": {},
     "output_type": "execute_result"
    }
   ],
   "source": [
    "b.difference(a)"
   ]
  },
  {
   "cell_type": "markdown",
   "metadata": {},
   "source": [
    "To find a list of all unique sets (aka: union):"
   ]
  },
  {
   "cell_type": "code",
   "execution_count": 5,
   "metadata": {
    "collapsed": false
   },
   "outputs": [
    {
     "data": {
      "text/plain": [
       "{'Black', 'Blue', 'Green', 'Red', 'White'}"
      ]
     },
     "execution_count": 5,
     "metadata": {},
     "output_type": "execute_result"
    }
   ],
   "source": [
    "a.union(b)"
   ]
  },
  {
   "cell_type": "markdown",
   "metadata": {},
   "source": [
    "How many are different?"
   ]
  },
  {
   "cell_type": "code",
   "execution_count": 6,
   "metadata": {
    "collapsed": false
   },
   "outputs": [
    {
     "name": "stdout",
     "output_type": "stream",
     "text": [
      "Number of different items in b:  2\n"
     ]
    }
   ],
   "source": [
    "print \"Number of different items in b:  %d\" % len(b.difference(a))"
   ]
  },
  {
   "cell_type": "markdown",
   "metadata": {},
   "source": [
    "## From Sets to Lists\n",
    "\n",
    "Now that we're experts with working with Python sets.  Let's get savvy working with lists and unstructured data.\n",
    "\n",
    "Using the split() method on a string, we can \"split\" it by a delimiter, to be used as a list.  By default, the .split() method can be applied to any string object, and will automatically split on spaces.  \n",
    "\n",
    "*You can pass a parameter to split to change which character it will split on, such as \",\", if you're trying to turn a comma seprated list of items into a list.*\n",
    "\n",
    "The following will turn a space delimited *string* into a **list**."
   ]
  },
  {
   "cell_type": "code",
   "execution_count": 7,
   "metadata": {
    "collapsed": false
   },
   "outputs": [
    {
     "data": {
      "text/plain": [
       "['my',\n",
       " 'name',\n",
       " 'is',\n",
       " 'dave',\n",
       " 'my',\n",
       " 'name',\n",
       " 'is',\n",
       " 'dave',\n",
       " 'my',\n",
       " 'name',\n",
       " 'is',\n",
       " 'dave']"
      ]
     },
     "execution_count": 7,
     "metadata": {},
     "output_type": "execute_result"
    }
   ],
   "source": [
    "\"my name is dave my name is dave my name is dave\".split()"
   ]
  },
  {
   "cell_type": "markdown",
   "metadata": {},
   "source": [
    "What's up with this though?  Well all know \"my name is dave\", but if we had many values, it would be hard to know which of them are unique.  That's when we use sets."
   ]
  },
  {
   "cell_type": "code",
   "execution_count": 8,
   "metadata": {
    "collapsed": false
   },
   "outputs": [
    {
     "data": {
      "text/plain": [
       "{'dave', 'is', 'my', 'name'}"
      ]
     },
     "execution_count": 8,
     "metadata": {},
     "output_type": "execute_result"
    }
   ],
   "source": [
    "set(\"my name is dave my name is dave my name is dave\".split())"
   ]
  },
  {
   "cell_type": "markdown",
   "metadata": {},
   "source": [
    "Ok so we should know enough to conquer our jaccard distance problem, and step into our real problem:\n",
    "\n",
    "## Who has similar tastes in music?\n",
    "\n",
    "What we will attempt, is building a small process that takes feedback from a survey, mapping a distance function to find similar users based on Jaccard.\n",
    "\n",
    "Along the way we will be:\n",
    "* Working with requests\n",
    "* Understanding Python fundamentals with sets and lists\n",
    "* Cleaning up bad data\n",
    "* Implementing Jaccard distance function\n",
    "* Finding similar users\n",
    "\n",
    "First, we will be taking a survey!  Let's all visit the survey posted in the channel before continuing.\n",
    "\n",
    "*[Check out #General]*"
   ]
  },
  {
   "cell_type": "markdown",
   "metadata": {},
   "source": [
    "Hopefully everything goes smooothly.  It's possible that I may need to modify the permissions on the sheet or provide a CSV snapshot if we hit a snag.\n",
    "\n",
    "We will be loading our results via HTTP, then loading them into Pandas via StringIO which allows us to interoperate on strings as if they were file resources, then load them as a Dataframe.  This is setup for us now."
   ]
  },
  {
   "cell_type": "code",
   "execution_count": 11,
   "metadata": {
    "collapsed": false
   },
   "outputs": [],
   "source": [
    "import pandas as pd\n",
    "import requests\n",
    "\n",
    "from StringIO import StringIO  \n",
    "\n",
    "%matplotlib inline\n",
    "\n",
    "spreadsheet = \"https://docs.google.com/spreadsheets/d/1cpUb7XbN-qOq4xbGdYfhY9FtrMqRd0izz4PmTPMejt0/export?format=csv&id=1cpUb7XbN-qOq4xbGdYfhY9FtrMqRd0izz4PmTPMejt0&gid=216538035\"\n",
    "http = requests.get(spreadsheet)\n",
    "csv_data = StringIO(http.content)\n",
    "df = pd.read_csv(csv_data, index_col=0)"
   ]
  },
  {
   "cell_type": "code",
   "execution_count": 14,
   "metadata": {
    "collapsed": false
   },
   "outputs": [
    {
     "data": {
      "text/html": [
       "<div>\n",
       "<table border=\"1\" class=\"dataframe\">\n",
       "  <thead>\n",
       "    <tr style=\"text-align: right;\">\n",
       "      <th></th>\n",
       "      <th>Name</th>\n",
       "      <th>Favorite Genres / Genres you like</th>\n",
       "      <th>What time of day do you like to listen to music?</th>\n",
       "    </tr>\n",
       "    <tr>\n",
       "      <th>Timestamp</th>\n",
       "      <th></th>\n",
       "      <th></th>\n",
       "      <th></th>\n",
       "    </tr>\n",
       "  </thead>\n",
       "  <tbody>\n",
       "    <tr>\n",
       "      <th>2/8/2016 2:09:12</th>\n",
       "      <td>Dave</td>\n",
       "      <td>Blues, Classical, Electronic Music, Hip Hop / ...</td>\n",
       "      <td>24/7</td>\n",
       "    </tr>\n",
       "    <tr>\n",
       "      <th>2/8/2016 20:56:27</th>\n",
       "      <td>Brian Zhou</td>\n",
       "      <td>Alternative Music, Dance, Electronic Music, Hi...</td>\n",
       "      <td>Night</td>\n",
       "    </tr>\n",
       "    <tr>\n",
       "      <th>2/8/2016 20:56:44</th>\n",
       "      <td>Colby</td>\n",
       "      <td>Blues, Electronic Music, Indie Pop, Reggae</td>\n",
       "      <td>Morning, Night, Special occasions</td>\n",
       "    </tr>\n",
       "    <tr>\n",
       "      <th>2/8/2016 20:56:46</th>\n",
       "      <td>Porpoises</td>\n",
       "      <td>Alternative Music, Dance, Easy Listening, Elec...</td>\n",
       "      <td>24/7</td>\n",
       "    </tr>\n",
       "    <tr>\n",
       "      <th>2/8/2016 20:56:50</th>\n",
       "      <td>Tam</td>\n",
       "      <td>Classical, Dance, Easy Listening, Jazz, Pop, R...</td>\n",
       "      <td>24/7</td>\n",
       "    </tr>\n",
       "  </tbody>\n",
       "</table>\n",
       "</div>"
      ],
      "text/plain": [
       "                         Name  \\\n",
       "Timestamp                       \n",
       "2/8/2016 2:09:12         Dave   \n",
       "2/8/2016 20:56:27  Brian Zhou   \n",
       "2/8/2016 20:56:44       Colby   \n",
       "2/8/2016 20:56:46   Porpoises   \n",
       "2/8/2016 20:56:50         Tam   \n",
       "\n",
       "                                   Favorite Genres / Genres you like  \\\n",
       "Timestamp                                                              \n",
       "2/8/2016 2:09:12   Blues, Classical, Electronic Music, Hip Hop / ...   \n",
       "2/8/2016 20:56:27  Alternative Music, Dance, Electronic Music, Hi...   \n",
       "2/8/2016 20:56:44         Blues, Electronic Music, Indie Pop, Reggae   \n",
       "2/8/2016 20:56:46  Alternative Music, Dance, Easy Listening, Elec...   \n",
       "2/8/2016 20:56:50  Classical, Dance, Easy Listening, Jazz, Pop, R...   \n",
       "\n",
       "                  What time of day do you like to listen to music?  \n",
       "Timestamp                                                           \n",
       "2/8/2016 2:09:12                                              24/7  \n",
       "2/8/2016 20:56:27                                            Night  \n",
       "2/8/2016 20:56:44                Morning, Night, Special occasions  \n",
       "2/8/2016 20:56:46                                             24/7  \n",
       "2/8/2016 20:56:50                                             24/7  "
      ]
     },
     "execution_count": 14,
     "metadata": {},
     "output_type": "execute_result"
    }
   ],
   "source": [
    "df.head(5)"
   ]
  },
  {
   "cell_type": "markdown",
   "metadata": {},
   "source": [
    "**1. Rename the genre feature**\n",
    "\n",
    "We get bad data from spreadsheets all the time.  This case, it's coming from a survey.  For ease of reference, rename the feature **\"Favorite Genres / Genres you like\"** to **\"genres\"**.\n"
   ]
  },
  {
   "cell_type": "code",
   "execution_count": 26,
   "metadata": {
    "collapsed": false
   },
   "outputs": [
    {
     "data": {
      "text/html": [
       "<div>\n",
       "<table border=\"1\" class=\"dataframe\">\n",
       "  <thead>\n",
       "    <tr style=\"text-align: right;\">\n",
       "      <th></th>\n",
       "      <th>Name</th>\n",
       "      <th>genres</th>\n",
       "      <th>What time of day do you like to listen to music?</th>\n",
       "    </tr>\n",
       "    <tr>\n",
       "      <th>Timestamp</th>\n",
       "      <th></th>\n",
       "      <th></th>\n",
       "      <th></th>\n",
       "    </tr>\n",
       "  </thead>\n",
       "  <tbody>\n",
       "    <tr>\n",
       "      <th>2/8/2016 2:09:12</th>\n",
       "      <td>Dave</td>\n",
       "      <td>Blues, Classical, Electronic Music, Hip Hop / ...</td>\n",
       "      <td>24/7</td>\n",
       "    </tr>\n",
       "    <tr>\n",
       "      <th>2/8/2016 20:56:27</th>\n",
       "      <td>Brian Zhou</td>\n",
       "      <td>Alternative Music, Dance, Electronic Music, Hi...</td>\n",
       "      <td>Night</td>\n",
       "    </tr>\n",
       "    <tr>\n",
       "      <th>2/8/2016 20:56:44</th>\n",
       "      <td>Colby</td>\n",
       "      <td>Blues, Electronic Music, Indie Pop, Reggae</td>\n",
       "      <td>Morning, Night, Special occasions</td>\n",
       "    </tr>\n",
       "    <tr>\n",
       "      <th>2/8/2016 20:56:46</th>\n",
       "      <td>Porpoises</td>\n",
       "      <td>Alternative Music, Dance, Easy Listening, Elec...</td>\n",
       "      <td>24/7</td>\n",
       "    </tr>\n",
       "    <tr>\n",
       "      <th>2/8/2016 20:56:50</th>\n",
       "      <td>Tam</td>\n",
       "      <td>Classical, Dance, Easy Listening, Jazz, Pop, R...</td>\n",
       "      <td>24/7</td>\n",
       "    </tr>\n",
       "  </tbody>\n",
       "</table>\n",
       "</div>"
      ],
      "text/plain": [
       "                         Name  \\\n",
       "Timestamp                       \n",
       "2/8/2016 2:09:12         Dave   \n",
       "2/8/2016 20:56:27  Brian Zhou   \n",
       "2/8/2016 20:56:44       Colby   \n",
       "2/8/2016 20:56:46   Porpoises   \n",
       "2/8/2016 20:56:50         Tam   \n",
       "\n",
       "                                                              genres  \\\n",
       "Timestamp                                                              \n",
       "2/8/2016 2:09:12   Blues, Classical, Electronic Music, Hip Hop / ...   \n",
       "2/8/2016 20:56:27  Alternative Music, Dance, Electronic Music, Hi...   \n",
       "2/8/2016 20:56:44         Blues, Electronic Music, Indie Pop, Reggae   \n",
       "2/8/2016 20:56:46  Alternative Music, Dance, Easy Listening, Elec...   \n",
       "2/8/2016 20:56:50  Classical, Dance, Easy Listening, Jazz, Pop, R...   \n",
       "\n",
       "                  What time of day do you like to listen to music?  \n",
       "Timestamp                                                           \n",
       "2/8/2016 2:09:12                                              24/7  \n",
       "2/8/2016 20:56:27                                            Night  \n",
       "2/8/2016 20:56:44                Morning, Night, Special occasions  \n",
       "2/8/2016 20:56:46                                             24/7  \n",
       "2/8/2016 20:56:50                                             24/7  "
      ]
     },
     "execution_count": 26,
     "metadata": {},
     "output_type": "execute_result"
    }
   ],
   "source": [
    "df.rename(columns={'Favorite Genres / Genres you like': 'genres'}, inplace=True)\n",
    "df.head(5)"
   ]
  },
  {
   "cell_type": "markdown",
   "metadata": {},
   "source": [
    "**2. Select only your response from the new \"genre\" feature**\n",
    "\n",
    "Try printing out only the first value, where df[\"Name\"] == \"[Your name]\"."
   ]
  },
  {
   "cell_type": "code",
   "execution_count": 57,
   "metadata": {
    "collapsed": false
   },
   "outputs": [
    {
     "data": {
      "text/html": [
       "<div>\n",
       "<table border=\"1\" class=\"dataframe\">\n",
       "  <thead>\n",
       "    <tr style=\"text-align: right;\">\n",
       "      <th></th>\n",
       "      <th>Name</th>\n",
       "      <th>genres</th>\n",
       "      <th>What time of day do you like to listen to music?</th>\n",
       "    </tr>\n",
       "    <tr>\n",
       "      <th>Timestamp</th>\n",
       "      <th></th>\n",
       "      <th></th>\n",
       "      <th></th>\n",
       "    </tr>\n",
       "  </thead>\n",
       "  <tbody>\n",
       "    <tr>\n",
       "      <th>2/8/2016 20:56:44</th>\n",
       "      <td>Colby</td>\n",
       "      <td>Blues, Electronic Music, Indie Pop, Reggae</td>\n",
       "      <td>Morning, Night, Special occasions</td>\n",
       "    </tr>\n",
       "  </tbody>\n",
       "</table>\n",
       "</div>"
      ],
      "text/plain": [
       "                    Name                                      genres  \\\n",
       "Timestamp                                                              \n",
       "2/8/2016 20:56:44  Colby  Blues, Electronic Music, Indie Pop, Reggae   \n",
       "\n",
       "                  What time of day do you like to listen to music?  \n",
       "Timestamp                                                           \n",
       "2/8/2016 20:56:44                Morning, Night, Special occasions  "
      ]
     },
     "execution_count": 57,
     "metadata": {},
     "output_type": "execute_result"
    }
   ],
   "source": [
    "my_df = df.loc[df['Name'] == 'Colby']"
   ]
  },
  {
   "cell_type": "markdown",
   "metadata": {},
   "source": [
    "**3. Take your survey response for \"genre\", and split it into a list, equal to the number of responses you chose**\n",
    "\n",
    "For example if you chose \"Blues, Reggae, Electronic Music\", convert it to a list that looks like [\"Blues\", \"Raggae\", \"Electronic Music\"]."
   ]
  },
  {
   "cell_type": "code",
   "execution_count": 91,
   "metadata": {
    "collapsed": false
   },
   "outputs": [],
   "source": [
    "my_list = pd.DataFrame(my_df['genres'])\n",
    "my_list = list(my_list.genres)\n",
    "my_list = my_list[0].split(',')"
   ]
  },
  {
   "cell_type": "markdown",
   "metadata": {},
   "source": [
    "**4. Create a function that takes 2 lists, then calculate Jaccard distance**\n",
    "\n",
    "0-60 mph I know but you can do this!  Double check our slides, and refer to the set operations for how to calculate this.  \n",
    "\n",
    "Here is a boilerplate to get you going."
   ]
  },
  {
   "cell_type": "code",
   "execution_count": 45,
   "metadata": {
    "collapsed": false
   },
   "outputs": [
    {
     "name": "stdout",
     "output_type": "stream",
     "text": [
      "list1:  set(['Blues, Electronic Music, Indie Pop, Reggae'])\n",
      "list2:  set(['Blues, Classical, Electronic Music, Hip Hop / Rap, Jazz, Reggae, World Music / Beats, Everything'])\n"
     ]
    }
   ],
   "source": [
    "def jaccard(list1, list2):\n",
    "    print \"list1: \", list1\n",
    "    print \"list2: \", list2\n",
    "    \n",
    "list1 = my_list\n",
    "list2 = dave_df = df.loc[df['Name'] == 'Dave']\n",
    "list2 = set(dave_df['genres'])\n",
    "\n",
    "jaccard(list1, list2)"
   ]
  },
  {
   "cell_type": "markdown",
   "metadata": {},
   "source": [
    "**5.  Now for our final trick, calculate the distance between your genre preferences vs everyone else.**\n",
    "\n",
    "Loop through everyone in the dataframe, create a list out of their \"genre\" string, echo out their name, then finally the distance between you and their sets."
   ]
  },
  {
   "cell_type": "code",
   "execution_count": null,
   "metadata": {
    "collapsed": true
   },
   "outputs": [],
   "source": []
  },
  {
   "cell_type": "markdown",
   "metadata": {},
   "source": [
    "**Optional 6. Try calculating the distance on the time of day feature.**\n",
    "\n",
    "Try to make a new dataframe, for just you vs everyone, using jaccard, and time of day.  Is there any interesting patterns you see?"
   ]
  },
  {
   "cell_type": "code",
   "execution_count": null,
   "metadata": {
    "collapsed": true
   },
   "outputs": [],
   "source": []
  },
  {
   "cell_type": "markdown",
   "metadata": {},
   "source": [
    "**Optional 7. What can you say about the selection of options for genre or time and what they mean?**"
   ]
  },
  {
   "cell_type": "code",
   "execution_count": null,
   "metadata": {
    "collapsed": true
   },
   "outputs": [],
   "source": []
  }
 ],
 "metadata": {
  "kernelspec": {
   "display_name": "Python 2",
   "language": "python",
   "name": "python2"
  },
  "language_info": {
   "codemirror_mode": {
    "name": "ipython",
    "version": 2
   },
   "file_extension": ".py",
   "mimetype": "text/x-python",
   "name": "python",
   "nbconvert_exporter": "python",
   "pygments_lexer": "ipython2",
   "version": "2.7.11"
  }
 },
 "nbformat": 4,
 "nbformat_minor": 0
}
