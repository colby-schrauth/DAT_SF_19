{
 "cells": [
  {
   "cell_type": "markdown",
   "metadata": {},
   "source": [
    "# elevator pitch"
   ]
  },
  {
   "cell_type": "markdown",
   "metadata": {},
   "source": [
    "I’m planning to prevent shark attacks in the state of Florida. I have a dataset reporting ≈950 shark attack events. At first glance, important features include: location, date, activity, gender, age and time. I’m hoping to pull in additional features based off the location and date. For example, ocean water temperature, wave height, air temperature, fishing volume and precipitation amount. I know that this will start as an unsupervised clustering problem, in that I’ll need to see if there are groupings of shark attacks that provoke a deeper yearning to learn more. I also know that there are more days without a shark attack, than there are with one. And many of the days without one, may have very similar attributes to the days that do. As a result, it may turn out to be difficult to turn this into a supervised classification algorithm in predicting shark attack probabilities. However, I chose this topic because I’m fascinated with the ocean and how there isn’t more easily accessible data around events like this."
   ]
  },
  {
   "cell_type": "code",
   "execution_count": null,
   "metadata": {
    "collapsed": true
   },
   "outputs": [],
   "source": []
  }
 ],
 "metadata": {
  "kernelspec": {
   "display_name": "Python 2",
   "language": "python",
   "name": "python2"
  },
  "language_info": {
   "codemirror_mode": {
    "name": "ipython",
    "version": 2
   },
   "file_extension": ".py",
   "mimetype": "text/x-python",
   "name": "python",
   "nbconvert_exporter": "python",
   "pygments_lexer": "ipython2",
   "version": "2.7.11"
  }
 },
 "nbformat": 4,
 "nbformat_minor": 0
}
